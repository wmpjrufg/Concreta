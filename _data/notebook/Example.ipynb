{
 "cells": [
  {
   "attachments": {},
   "cell_type": "markdown",
   "id": "82d4b5c4",
   "metadata": {},
   "source": [
    "Hello, I'm Concreta, the artificial intelligence produced by GPEE (Group for Research and Studies in Engineering). My authors are:\n",
    "\n",
    "---\n",
    "1. Lucas Cruvinel (***UFCAT***)  \n",
    "2. Wanderlei Malaquias Pereira Junior (***UFCAT***)  \n",
    "3. Amanda Campos (***UFRJ***)  \n",
    "4. Antover P. Sarmento (***UFCAT***)  \n",
    "5. Daniel Lima Araújo (***UFG***)  \n",
    "6. Rogério Espindola (***UFRJ***)  \n",
    "7. Gustavo de Assis Costa (***IFG***)\n",
    "---\n",
    "\n",
    "To use me, just insert the .sav files and the completed Excel template in the Google Colab environment.\n",
    "\n",
    "After inserting the files, go to **Execution Environment** and click on **Execute All**.\n",
    "\n",
    "Processing results are displayed on the screen itself."
   ]
  },
  {
   "cell_type": "code",
   "execution_count": 1,
   "id": "051f9454",
   "metadata": {},
   "outputs": [
    {
     "name": "stdout",
     "output_type": "stream",
     "text": [
      "Type your filename?\n",
      "input_model\n"
     ]
    }
   ],
   "source": [
    "import numpy as np \n",
    "import pandas as pd\n",
    "import pickle\n",
    "from CONCRETA import *\n",
    "ARQ = input('Type your filename?\\n')"
   ]
  },
  {
   "cell_type": "code",
   "execution_count": 2,
   "id": "42101fd1",
   "metadata": {},
   "outputs": [
    {
     "name": "stdout",
     "output_type": "stream",
     "text": [
      "fck =  79.84145717453003 MPa\n",
      "fck =  44.28343156590957 MPa\n"
     ]
    }
   ],
   "source": [
    "CONCRETA(ARQ)"
   ]
  }
 ],
 "metadata": {
  "kernelspec": {
   "display_name": "Python 3 (ipykernel)",
   "language": "python",
   "name": "python3"
  },
  "language_info": {
   "codemirror_mode": {
    "name": "ipython",
    "version": 3
   },
   "file_extension": ".py",
   "mimetype": "text/x-python",
   "name": "python",
   "nbconvert_exporter": "python",
   "pygments_lexer": "ipython3",
   "version": "3.9.12"
  }
 },
 "nbformat": 4,
 "nbformat_minor": 5
}
